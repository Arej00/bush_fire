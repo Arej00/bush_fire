{
 "cells": [
  {
   "cell_type": "code",
   "execution_count": 1,
   "id": "7494ea4c",
   "metadata": {},
   "outputs": [
    {
     "name": "stdout",
     "output_type": "stream",
     "text": [
      "Downloading fire data\n",
      "2020: 847,691 records\n",
      "2021: 819,461 records\n",
      "2022: 804,720 records\n",
      "2023: 1,855,272 records\n",
      "2024: 979,867 records\n",
      "Saved: raw_fire_data.csv (5,307,011 records)\n"
     ]
    }
   ],
   "source": [
    "import pandas as pd\n",
    "import numpy as np\n",
    "import requests\n",
    "\n",
    "def download_fire_data():\n",
    "    \n",
    "    print(\"Downloading fire data\")\n",
    "    \n",
    "    base_url = \"https://firms.modaps.eosdis.nasa.gov/data/country/modis/\"\n",
    "    all_fires = []\n",
    "    \n",
    "    for year in [2020, 2021, 2022, 2023, 2024]:\n",
    "        try:\n",
    "            url = f\"{base_url}viirs-snpp_{year}_Australia.csv\"\n",
    "            df = pd.read_csv(url)\n",
    "            df['year'] = year\n",
    "            all_fires.append(df)\n",
    "            print(f\"{year}: {len(df):,} records\")\n",
    "        except:\n",
    "            continue\n",
    "    \n",
    "    if all_fires:\n",
    "        combined = pd.concat(all_fires, ignore_index=True)\n",
    "        combined.to_csv('raw_fire_data.csv', index=False)\n",
    "        print(f\"Saved: raw_fire_data.csv ({len(combined):,} records)\")\n",
    "        return combined\n",
    "    return None\n",
    "\n",
    "fire_data = download_fire_data()"
   ]
  },
  {
   "cell_type": "code",
   "execution_count": null,
   "id": "14120ebf",
   "metadata": {},
   "outputs": [],
   "source": []
  }
 ],
 "metadata": {
  "kernelspec": {
   "display_name": "Python (mlenv)",
   "language": "python",
   "name": "mlenv"
  },
  "language_info": {
   "codemirror_mode": {
    "name": "ipython",
    "version": 3
   },
   "file_extension": ".py",
   "mimetype": "text/x-python",
   "name": "python",
   "nbconvert_exporter": "python",
   "pygments_lexer": "ipython3",
   "version": "3.10.18"
  }
 },
 "nbformat": 4,
 "nbformat_minor": 5
}
