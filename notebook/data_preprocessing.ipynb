{
 "cells": [
  {
   "cell_type": "code",
   "execution_count": 1,
   "id": "936a9610",
   "metadata": {},
   "outputs": [],
   "source": [
    "import pandas as pd\n",
    "import numpy as np\n",
    "from sklearn.model_selection import train_test_split\n"
   ]
  },
  {
   "cell_type": "code",
   "execution_count": 2,
   "id": "df02d7f8",
   "metadata": {},
   "outputs": [
    {
     "data": {
      "text/plain": [
       "(5307011, 16)"
      ]
     },
     "execution_count": 2,
     "metadata": {},
     "output_type": "execute_result"
    }
   ],
   "source": [
    "df = pd.read_csv('raw_fire_data.csv', low_memory=False)\n",
    "df.shape"
   ]
  },
  {
   "cell_type": "code",
   "execution_count": 3,
   "id": "ff4f252e",
   "metadata": {},
   "outputs": [
    {
     "data": {
      "text/html": [
       "<div>\n",
       "<style scoped>\n",
       "    .dataframe tbody tr th:only-of-type {\n",
       "        vertical-align: middle;\n",
       "    }\n",
       "\n",
       "    .dataframe tbody tr th {\n",
       "        vertical-align: top;\n",
       "    }\n",
       "\n",
       "    .dataframe thead th {\n",
       "        text-align: right;\n",
       "    }\n",
       "</style>\n",
       "<table border=\"1\" class=\"dataframe\">\n",
       "  <thead>\n",
       "    <tr style=\"text-align: right;\">\n",
       "      <th></th>\n",
       "      <th>latitude</th>\n",
       "      <th>longitude</th>\n",
       "      <th>bright_ti4</th>\n",
       "      <th>scan</th>\n",
       "      <th>track</th>\n",
       "      <th>acq_date</th>\n",
       "      <th>acq_time</th>\n",
       "      <th>satellite</th>\n",
       "      <th>instrument</th>\n",
       "      <th>confidence</th>\n",
       "      <th>version</th>\n",
       "      <th>bright_ti5</th>\n",
       "      <th>frp</th>\n",
       "      <th>daynight</th>\n",
       "      <th>type</th>\n",
       "      <th>year</th>\n",
       "    </tr>\n",
       "  </thead>\n",
       "  <tbody>\n",
       "    <tr>\n",
       "      <th>0</th>\n",
       "      <td>-41.56622</td>\n",
       "      <td>147.95204</td>\n",
       "      <td>346.47</td>\n",
       "      <td>0.37</td>\n",
       "      <td>0.58</td>\n",
       "      <td>2020-01-01</td>\n",
       "      <td>315</td>\n",
       "      <td>N</td>\n",
       "      <td>VIIRS</td>\n",
       "      <td>n</td>\n",
       "      <td>2</td>\n",
       "      <td>289.89</td>\n",
       "      <td>48.52</td>\n",
       "      <td>D</td>\n",
       "      <td>0</td>\n",
       "      <td>2020</td>\n",
       "    </tr>\n",
       "    <tr>\n",
       "      <th>1</th>\n",
       "      <td>-41.56641</td>\n",
       "      <td>147.94772</td>\n",
       "      <td>352.94</td>\n",
       "      <td>0.37</td>\n",
       "      <td>0.58</td>\n",
       "      <td>2020-01-01</td>\n",
       "      <td>315</td>\n",
       "      <td>N</td>\n",
       "      <td>VIIRS</td>\n",
       "      <td>n</td>\n",
       "      <td>2</td>\n",
       "      <td>295.35</td>\n",
       "      <td>48.52</td>\n",
       "      <td>D</td>\n",
       "      <td>0</td>\n",
       "      <td>2020</td>\n",
       "    </tr>\n",
       "    <tr>\n",
       "      <th>2</th>\n",
       "      <td>-41.56716</td>\n",
       "      <td>147.93088</td>\n",
       "      <td>353.88</td>\n",
       "      <td>0.37</td>\n",
       "      <td>0.58</td>\n",
       "      <td>2020-01-01</td>\n",
       "      <td>315</td>\n",
       "      <td>N</td>\n",
       "      <td>VIIRS</td>\n",
       "      <td>n</td>\n",
       "      <td>2</td>\n",
       "      <td>283.05</td>\n",
       "      <td>22.18</td>\n",
       "      <td>D</td>\n",
       "      <td>0</td>\n",
       "      <td>2020</td>\n",
       "    </tr>\n",
       "    <tr>\n",
       "      <th>3</th>\n",
       "      <td>-41.56773</td>\n",
       "      <td>147.91777</td>\n",
       "      <td>340.81</td>\n",
       "      <td>0.37</td>\n",
       "      <td>0.58</td>\n",
       "      <td>2020-01-01</td>\n",
       "      <td>315</td>\n",
       "      <td>N</td>\n",
       "      <td>VIIRS</td>\n",
       "      <td>n</td>\n",
       "      <td>2</td>\n",
       "      <td>285.54</td>\n",
       "      <td>6.93</td>\n",
       "      <td>D</td>\n",
       "      <td>0</td>\n",
       "      <td>2020</td>\n",
       "    </tr>\n",
       "    <tr>\n",
       "      <th>4</th>\n",
       "      <td>-41.56793</td>\n",
       "      <td>147.91336</td>\n",
       "      <td>339.01</td>\n",
       "      <td>0.37</td>\n",
       "      <td>0.58</td>\n",
       "      <td>2020-01-01</td>\n",
       "      <td>315</td>\n",
       "      <td>N</td>\n",
       "      <td>VIIRS</td>\n",
       "      <td>n</td>\n",
       "      <td>2</td>\n",
       "      <td>281.39</td>\n",
       "      <td>6.93</td>\n",
       "      <td>D</td>\n",
       "      <td>0</td>\n",
       "      <td>2020</td>\n",
       "    </tr>\n",
       "  </tbody>\n",
       "</table>\n",
       "</div>"
      ],
      "text/plain": [
       "   latitude  longitude  bright_ti4  scan  track    acq_date  acq_time  \\\n",
       "0 -41.56622  147.95204      346.47  0.37   0.58  2020-01-01       315   \n",
       "1 -41.56641  147.94772      352.94  0.37   0.58  2020-01-01       315   \n",
       "2 -41.56716  147.93088      353.88  0.37   0.58  2020-01-01       315   \n",
       "3 -41.56773  147.91777      340.81  0.37   0.58  2020-01-01       315   \n",
       "4 -41.56793  147.91336      339.01  0.37   0.58  2020-01-01       315   \n",
       "\n",
       "  satellite instrument confidence  version  bright_ti5    frp daynight  type  \\\n",
       "0         N      VIIRS          n        2      289.89  48.52        D     0   \n",
       "1         N      VIIRS          n        2      295.35  48.52        D     0   \n",
       "2         N      VIIRS          n        2      283.05  22.18        D     0   \n",
       "3         N      VIIRS          n        2      285.54   6.93        D     0   \n",
       "4         N      VIIRS          n        2      281.39   6.93        D     0   \n",
       "\n",
       "   year  \n",
       "0  2020  \n",
       "1  2020  \n",
       "2  2020  \n",
       "3  2020  \n",
       "4  2020  "
      ]
     },
     "execution_count": 3,
     "metadata": {},
     "output_type": "execute_result"
    }
   ],
   "source": [
    "df.head()"
   ]
  },
  {
   "cell_type": "code",
   "execution_count": 4,
   "id": "3a195567",
   "metadata": {},
   "outputs": [
    {
     "data": {
      "text/plain": [
       "latitude      0.0\n",
       "longitude     0.0\n",
       "bright_ti4    0.0\n",
       "scan          0.0\n",
       "track         0.0\n",
       "acq_date      0.0\n",
       "acq_time      0.0\n",
       "satellite     0.0\n",
       "instrument    0.0\n",
       "confidence    0.0\n",
       "version       0.0\n",
       "bright_ti5    0.0\n",
       "frp           0.0\n",
       "daynight      0.0\n",
       "type          0.0\n",
       "year          0.0\n",
       "dtype: float64"
      ]
     },
     "execution_count": 4,
     "metadata": {},
     "output_type": "execute_result"
    }
   ],
   "source": [
    "df.isnull().mean()*100"
   ]
  },
  {
   "cell_type": "code",
   "execution_count": 5,
   "id": "ad5ad3ae",
   "metadata": {},
   "outputs": [
    {
     "data": {
      "text/plain": [
       "0"
      ]
     },
     "execution_count": 5,
     "metadata": {},
     "output_type": "execute_result"
    }
   ],
   "source": [
    "df.duplicated().sum()"
   ]
  },
  {
   "cell_type": "code",
   "execution_count": 6,
   "id": "e59139b5",
   "metadata": {},
   "outputs": [
    {
     "name": "stdout",
     "output_type": "stream",
     "text": [
      "<class 'pandas.core.frame.DataFrame'>\n",
      "RangeIndex: 5307011 entries, 0 to 5307010\n",
      "Data columns (total 16 columns):\n",
      " #   Column      Dtype  \n",
      "---  ------      -----  \n",
      " 0   latitude    float64\n",
      " 1   longitude   float64\n",
      " 2   bright_ti4  float64\n",
      " 3   scan        float64\n",
      " 4   track       float64\n",
      " 5   acq_date    object \n",
      " 6   acq_time    int64  \n",
      " 7   satellite   object \n",
      " 8   instrument  object \n",
      " 9   confidence  object \n",
      " 10  version     int64  \n",
      " 11  bright_ti5  float64\n",
      " 12  frp         float64\n",
      " 13  daynight    object \n",
      " 14  type        int64  \n",
      " 15  year        int64  \n",
      "dtypes: float64(7), int64(4), object(5)\n",
      "memory usage: 647.8+ MB\n"
     ]
    }
   ],
   "source": [
    "df.info()"
   ]
  },
  {
   "cell_type": "code",
   "execution_count": 7,
   "id": "0109b6f9",
   "metadata": {},
   "outputs": [
    {
     "data": {
      "text/plain": [
       "type\n",
       "0    5237904\n",
       "2      64622\n",
       "3       4485\n",
       "Name: count, dtype: int64"
      ]
     },
     "execution_count": 7,
     "metadata": {},
     "output_type": "execute_result"
    }
   ],
   "source": [
    "df['type'].value_counts()"
   ]
  },
  {
   "cell_type": "code",
   "execution_count": 8,
   "id": "1486572b",
   "metadata": {},
   "outputs": [],
   "source": [
    "df = df[df['type'] == 0]"
   ]
  },
  {
   "cell_type": "markdown",
   "id": "3edab0ff",
   "metadata": {},
   "source": [
    "### Data Type Conversion:"
   ]
  },
  {
   "cell_type": "code",
   "execution_count": 9,
   "id": "15e0f513",
   "metadata": {},
   "outputs": [],
   "source": [
    "df['acq_date'] = pd.to_datetime(df['acq_date'], errors='coerce')"
   ]
  },
  {
   "cell_type": "code",
   "execution_count": 10,
   "id": "8e03e4cc",
   "metadata": {},
   "outputs": [],
   "source": [
    "# Filter Australia\n",
    "df = df[\n",
    "    (df['latitude'] >= -44) & (df['latitude'] <= -10) &\n",
    "    (df['longitude'] >= 113) & (df['longitude'] <= 154)\n",
    "]"
   ]
  },
  {
   "cell_type": "code",
   "execution_count": 11,
   "id": "8c1ee38b",
   "metadata": {},
   "outputs": [],
   "source": [
    "# Convert confidence\n",
    "confidence_map = {'l': 50, 'n': 75, 'h': 90}\n",
    "df['confidence'] = df['confidence'].map(confidence_map)"
   ]
  },
  {
   "cell_type": "code",
   "execution_count": 12,
   "id": "dad6363a",
   "metadata": {},
   "outputs": [],
   "source": [
    "# Ensure numeric types\n",
    "numeric_cols = ['frp', 'bright_ti4', 'bright_ti5', 'scan', 'track']\n",
    "for col in numeric_cols:\n",
    "    df[col] = pd.to_numeric(df[col], errors='coerce')"
   ]
  },
  {
   "cell_type": "markdown",
   "id": "8f67bbc3",
   "metadata": {},
   "source": [
    "### Temporal Feature Engineering:"
   ]
  },
  {
   "cell_type": "code",
   "execution_count": 13,
   "id": "1be083a9",
   "metadata": {},
   "outputs": [],
   "source": [
    "df['month'] = df['acq_date'].dt.month\n",
    "df['day_of_year'] = df['acq_date'].dt.dayofyear\n",
    "df['week_of_year'] = df['acq_date'].dt.isocalendar().week"
   ]
  },
  {
   "cell_type": "code",
   "execution_count": 14,
   "id": "2c1432cd",
   "metadata": {},
   "outputs": [],
   "source": [
    "df['season'] = df['month'].apply(\n",
    "    lambda x: 'Summer' if x in [12, 1, 2] else \n",
    "              'Autumn' if x in [3, 4, 5] else\n",
    "              'Winter' if x in [6, 7, 8] else 'Spring'\n",
    ")"
   ]
  },
  {
   "cell_type": "code",
   "execution_count": 15,
   "id": "f8286528",
   "metadata": {},
   "outputs": [],
   "source": [
    "# Peak fire season indicator (Nov-Feb in Australia)\n",
    "df['is_fire_season'] = df['month'].isin([11, 12, 1, 2]).astype(int)"
   ]
  },
  {
   "cell_type": "code",
   "execution_count": 16,
   "id": "73214d58",
   "metadata": {},
   "outputs": [],
   "source": [
    "# Day/night indicator\n",
    "df['is_daytime'] = (df['daynight'] == 'D').astype(int)"
   ]
  },
  {
   "cell_type": "code",
   "execution_count": 17,
   "id": "e2c68d16",
   "metadata": {},
   "outputs": [],
   "source": [
    "# Time of acquisition\n",
    "df['acq_hour'] = (df['acq_time'] // 100).astype(int)\n",
    "df['is_afternoon'] = (df['acq_hour'] >= 12).astype(int)"
   ]
  },
  {
   "cell_type": "markdown",
   "id": "9db9ff42",
   "metadata": {},
   "source": [
    "### Spatial Feature Engineering:"
   ]
  },
  {
   "cell_type": "code",
   "execution_count": 18,
   "id": "42ee1d4b",
   "metadata": {},
   "outputs": [],
   "source": [
    "\n",
    "df['region'] = pd.cut(\n",
    "    df['latitude'], \n",
    "    bins=[-44, -28, -20, -10], \n",
    "    labels=['South', 'Central', 'North']\n",
    ")"
   ]
  },
  {
   "cell_type": "code",
   "execution_count": 19,
   "id": "819c540d",
   "metadata": {},
   "outputs": [
    {
     "name": "stdout",
     "output_type": "stream",
     "text": [
      "Severity class distribution:\n",
      "         Low: 3,816,318 (72.86%)\n",
      "      Medium: 1,241,844 (23.71%)\n",
      "        High: 121,985 ( 2.33%)\n",
      "   Very High:  57,697 ( 1.10%)\n"
     ]
    }
   ],
   "source": [
    "## Target:\n",
    "def create_severity_classes(df):\n",
    "    conditions = [\n",
    "        df['frp'] < 10,\n",
    "        (df['frp'] >= 10) & (df['frp'] < 50),\n",
    "        (df['frp'] >= 50) & (df['frp'] < 100),\n",
    "        df['frp'] >= 100\n",
    "    ]\n",
    "    labels = [0, 1, 2, 3]  # Low, Medium, High, Very High\n",
    "    \n",
    "    df['severity_class'] = np.select(conditions, labels, default=1)\n",
    "    return df\n",
    "\n",
    "df = create_severity_classes(df)\n",
    "\n",
    "# Print severity distribution\n",
    "severity_dist = df['severity_class'].value_counts().sort_index()\n",
    "severity_labels = {0: 'Low', 1: 'Medium', 2: 'High', 3: 'Very High'}\n",
    "\n",
    "print(f\"Severity class distribution:\")\n",
    "for severity, count in severity_dist.items():\n",
    "    pct = (count / len(df)) * 100\n",
    "    print(f\"  {severity_labels[severity]:>10}: {count:>7,} ({pct:>5.2f}%)\")"
   ]
  },
  {
   "cell_type": "markdown",
   "id": "c3fd1127",
   "metadata": {},
   "source": [
    "### Sampling"
   ]
  },
  {
   "cell_type": "code",
   "execution_count": 20,
   "id": "265c3b68",
   "metadata": {},
   "outputs": [
    {
     "name": "stdout",
     "output_type": "stream",
     "text": [
      "Sampled 200,000 records (stratified by severity)\n"
     ]
    }
   ],
   "source": [
    "## Sampling for computational effiney:\n",
    "\n",
    "if len(df) > 200000:\n",
    "    df_sampled, _ = train_test_split(\n",
    "        df, \n",
    "        train_size=200000, \n",
    "        stratify=df['severity_class'], \n",
    "        random_state=42\n",
    "    )\n",
    "    print(f\"Sampled {len(df_sampled):,} records (stratified by severity)\")\n",
    "else:\n",
    "    df_sampled = df.copy()\n",
    "    print(f\"Using full dataset ({len(df_sampled):,} records)\")"
   ]
  },
  {
   "cell_type": "code",
   "execution_count": 21,
   "id": "fbb756e5",
   "metadata": {},
   "outputs": [],
   "source": [
    "# Feature Selection:\n",
    "columns_to_drop = [\n",
    "    'frp', 'bright_ti4', 'bright_ti5',  \n",
    "    'acq_date', 'acq_time',             \n",
    "    'type'                                \n",
    "]\n",
    "\n",
    "df_final = df_sampled.drop(columns=columns_to_drop, errors='ignore')\n"
   ]
  },
  {
   "cell_type": "code",
   "execution_count": 22,
   "id": "4b329fc3",
   "metadata": {},
   "outputs": [
    {
     "name": "stdout",
     "output_type": "stream",
     "text": [
      "Saved to: preprocessed_fire_data_clean.csv\n"
     ]
    }
   ],
   "source": [
    "output_file = 'preprocessed_fire_data_clean.csv'\n",
    "df_final.to_csv(output_file, index=False)\n",
    "print(f\"Saved to: {output_file}\")"
   ]
  }
 ],
 "metadata": {
  "kernelspec": {
   "display_name": "Python 3",
   "language": "python",
   "name": "python3"
  },
  "language_info": {
   "codemirror_mode": {
    "name": "ipython",
    "version": 3
   },
   "file_extension": ".py",
   "mimetype": "text/x-python",
   "name": "python",
   "nbconvert_exporter": "python",
   "pygments_lexer": "ipython3",
   "version": "3.10.18"
  }
 },
 "nbformat": 4,
 "nbformat_minor": 5
}
