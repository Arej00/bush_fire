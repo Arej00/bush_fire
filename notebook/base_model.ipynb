{
 "cells": [
  {
   "cell_type": "code",
   "execution_count": 18,
   "id": "629db69e",
   "metadata": {},
   "outputs": [],
   "source": [
    "import pandas as pd\n",
    "import numpy as np\n",
    "import matplotlib.pyplot as plt\n",
    "import seaborn as sns\n",
    "from sklearn.model_selection import train_test_split, cross_val_score, StratifiedKFold\n",
    "from sklearn.preprocessing import StandardScaler\n",
    "from sklearn.linear_model import LogisticRegression\n",
    "from sklearn.ensemble import RandomForestClassifier\n",
    "from sklearn.metrics import classification_report, confusion_matrix, accuracy_score,f1_score\n",
    "import warnings\n",
    "warnings.filterwarnings('ignore')"
   ]
  },
  {
   "cell_type": "code",
   "execution_count": 2,
   "id": "1fec496e",
   "metadata": {},
   "outputs": [],
   "source": [
    "df = pd.read_csv('preprocessed_fire_data_clean.csv')"
   ]
  },
  {
   "cell_type": "markdown",
   "id": "38071b08",
   "metadata": {},
   "source": [
    "### Removing multicollinear features:"
   ]
  },
  {
   "cell_type": "code",
   "execution_count": 3,
   "id": "d5e4c803",
   "metadata": {},
   "outputs": [],
   "source": [
    "def remove_high_corr(df, threshold=0.85):\n",
    "\n",
    "    numeric_df = df.select_dtypes(include=[np.number])\n",
    "    \n",
    "    if len(numeric_df.columns) == 0:\n",
    "        print(\"No numeric columns found\")\n",
    "        return df\n",
    "    \n",
    "    corr_matrix = numeric_df.corr().abs()\n",
    "    \n",
    "    upper_triangle = np.triu(np.ones_like(corr_matrix, dtype=bool), k=1)\n",
    "\n",
    "    high_corr_pairs = []\n",
    "    for i in range(len(corr_matrix.columns)):\n",
    "        for j in range(i+1, len(corr_matrix.columns)):\n",
    "            if corr_matrix.iloc[i, j] >= threshold:\n",
    "                high_corr_pairs.append((corr_matrix.columns[i], corr_matrix.columns[j]))\n",
    "    \n",
    "    columns_to_remove = set()\n",
    "    for col1, col2 in high_corr_pairs:\n",
    "        columns_to_remove.add(col2)  \n",
    "    \n",
    "    df_clean = df.drop(columns=columns_to_remove)\n",
    "    \n",
    "    print(f\"Removed {len(columns_to_remove)} columns: {list(columns_to_remove)}\")\n",
    "    return df_clean"
   ]
  },
  {
   "cell_type": "code",
   "execution_count": 4,
   "id": "33c6aa97",
   "metadata": {},
   "outputs": [
    {
     "name": "stdout",
     "output_type": "stream",
     "text": [
      "Removed 4 columns: ['day_of_year', 'acq_hour', 'week_of_year', 'is_afternoon']\n"
     ]
    }
   ],
   "source": [
    "df_clean = remove_high_corr(df, threshold=0.85)"
   ]
  },
  {
   "cell_type": "code",
   "execution_count": 5,
   "id": "a55130a9",
   "metadata": {},
   "outputs": [
    {
     "data": {
      "text/html": [
       "<div>\n",
       "<style scoped>\n",
       "    .dataframe tbody tr th:only-of-type {\n",
       "        vertical-align: middle;\n",
       "    }\n",
       "\n",
       "    .dataframe tbody tr th {\n",
       "        vertical-align: top;\n",
       "    }\n",
       "\n",
       "    .dataframe thead th {\n",
       "        text-align: right;\n",
       "    }\n",
       "</style>\n",
       "<table border=\"1\" class=\"dataframe\">\n",
       "  <thead>\n",
       "    <tr style=\"text-align: right;\">\n",
       "      <th></th>\n",
       "      <th>latitude</th>\n",
       "      <th>longitude</th>\n",
       "      <th>scan</th>\n",
       "      <th>track</th>\n",
       "      <th>satellite</th>\n",
       "      <th>instrument</th>\n",
       "      <th>confidence</th>\n",
       "      <th>version</th>\n",
       "      <th>daynight</th>\n",
       "      <th>year</th>\n",
       "      <th>month</th>\n",
       "      <th>season</th>\n",
       "      <th>is_fire_season</th>\n",
       "      <th>is_daytime</th>\n",
       "      <th>region</th>\n",
       "      <th>severity_class</th>\n",
       "    </tr>\n",
       "  </thead>\n",
       "  <tbody>\n",
       "    <tr>\n",
       "      <th>0</th>\n",
       "      <td>-24.22034</td>\n",
       "      <td>151.52121</td>\n",
       "      <td>0.39</td>\n",
       "      <td>0.59</td>\n",
       "      <td>N</td>\n",
       "      <td>VIIRS</td>\n",
       "      <td>75</td>\n",
       "      <td>2</td>\n",
       "      <td>N</td>\n",
       "      <td>2020</td>\n",
       "      <td>11</td>\n",
       "      <td>Spring</td>\n",
       "      <td>1</td>\n",
       "      <td>0</td>\n",
       "      <td>Central</td>\n",
       "      <td>0</td>\n",
       "    </tr>\n",
       "    <tr>\n",
       "      <th>1</th>\n",
       "      <td>-26.00185</td>\n",
       "      <td>151.01968</td>\n",
       "      <td>0.56</td>\n",
       "      <td>0.43</td>\n",
       "      <td>N</td>\n",
       "      <td>VIIRS</td>\n",
       "      <td>75</td>\n",
       "      <td>2</td>\n",
       "      <td>N</td>\n",
       "      <td>2020</td>\n",
       "      <td>9</td>\n",
       "      <td>Spring</td>\n",
       "      <td>0</td>\n",
       "      <td>0</td>\n",
       "      <td>Central</td>\n",
       "      <td>0</td>\n",
       "    </tr>\n",
       "    <tr>\n",
       "      <th>2</th>\n",
       "      <td>-24.44900</td>\n",
       "      <td>151.74890</td>\n",
       "      <td>0.52</td>\n",
       "      <td>0.41</td>\n",
       "      <td>N</td>\n",
       "      <td>VIIRS</td>\n",
       "      <td>75</td>\n",
       "      <td>2</td>\n",
       "      <td>D</td>\n",
       "      <td>2023</td>\n",
       "      <td>9</td>\n",
       "      <td>Spring</td>\n",
       "      <td>0</td>\n",
       "      <td>1</td>\n",
       "      <td>Central</td>\n",
       "      <td>1</td>\n",
       "    </tr>\n",
       "    <tr>\n",
       "      <th>3</th>\n",
       "      <td>-33.06499</td>\n",
       "      <td>148.24466</td>\n",
       "      <td>0.39</td>\n",
       "      <td>0.36</td>\n",
       "      <td>N</td>\n",
       "      <td>VIIRS</td>\n",
       "      <td>75</td>\n",
       "      <td>2</td>\n",
       "      <td>D</td>\n",
       "      <td>2022</td>\n",
       "      <td>4</td>\n",
       "      <td>Autumn</td>\n",
       "      <td>0</td>\n",
       "      <td>1</td>\n",
       "      <td>South</td>\n",
       "      <td>0</td>\n",
       "    </tr>\n",
       "    <tr>\n",
       "      <th>4</th>\n",
       "      <td>-14.95827</td>\n",
       "      <td>130.61652</td>\n",
       "      <td>0.59</td>\n",
       "      <td>0.70</td>\n",
       "      <td>N</td>\n",
       "      <td>VIIRS</td>\n",
       "      <td>75</td>\n",
       "      <td>2</td>\n",
       "      <td>D</td>\n",
       "      <td>2022</td>\n",
       "      <td>9</td>\n",
       "      <td>Spring</td>\n",
       "      <td>0</td>\n",
       "      <td>1</td>\n",
       "      <td>North</td>\n",
       "      <td>0</td>\n",
       "    </tr>\n",
       "  </tbody>\n",
       "</table>\n",
       "</div>"
      ],
      "text/plain": [
       "   latitude  longitude  scan  track satellite instrument  confidence  version  \\\n",
       "0 -24.22034  151.52121  0.39   0.59         N      VIIRS          75        2   \n",
       "1 -26.00185  151.01968  0.56   0.43         N      VIIRS          75        2   \n",
       "2 -24.44900  151.74890  0.52   0.41         N      VIIRS          75        2   \n",
       "3 -33.06499  148.24466  0.39   0.36         N      VIIRS          75        2   \n",
       "4 -14.95827  130.61652  0.59   0.70         N      VIIRS          75        2   \n",
       "\n",
       "  daynight  year  month  season  is_fire_season  is_daytime   region  \\\n",
       "0        N  2020     11  Spring               1           0  Central   \n",
       "1        N  2020      9  Spring               0           0  Central   \n",
       "2        D  2023      9  Spring               0           1  Central   \n",
       "3        D  2022      4  Autumn               0           1    South   \n",
       "4        D  2022      9  Spring               0           1    North   \n",
       "\n",
       "   severity_class  \n",
       "0               0  \n",
       "1               0  \n",
       "2               1  \n",
       "3               0  \n",
       "4               0  "
      ]
     },
     "execution_count": 5,
     "metadata": {},
     "output_type": "execute_result"
    }
   ],
   "source": [
    "df_clean.head()"
   ]
  },
  {
   "cell_type": "code",
   "execution_count": 6,
   "id": "c150f210",
   "metadata": {},
   "outputs": [],
   "source": [
    "# Separate features and target\n",
    "X = df.drop('severity_class', axis=1)\n",
    "y = df['severity_class']"
   ]
  },
  {
   "cell_type": "code",
   "execution_count": 7,
   "id": "39edb785",
   "metadata": {},
   "outputs": [
    {
     "name": "stdout",
     "output_type": "stream",
     "text": [
      "Categorical columns to encode: ['satellite', 'instrument', 'daynight', 'season', 'region']\n"
     ]
    }
   ],
   "source": [
    "# Identify categorical columns for encoding\n",
    "categorical_cols = X.select_dtypes(include=['object', 'category']).columns.tolist()\n",
    "print(f\"Categorical columns to encode: {categorical_cols}\")\n",
    "\n",
    "# One-hot encode categorical variables\n",
    "X_encoded = pd.get_dummies(X, columns=categorical_cols, drop_first=True)"
   ]
  },
  {
   "cell_type": "code",
   "execution_count": 8,
   "id": "1777e6a3",
   "metadata": {},
   "outputs": [],
   "source": [
    "train_mask = df['year'].isin([2020, 2021, 2022]) # Training on 2020,2021,2022\n",
    "test_mask = df['year'].isin([2023, 2024]) # Testing on 2023,2024"
   ]
  },
  {
   "cell_type": "code",
   "execution_count": 9,
   "id": "300c6aa4",
   "metadata": {},
   "outputs": [],
   "source": [
    "X_train = X_encoded[train_mask]\n",
    "X_test = X_encoded[test_mask]\n",
    "y_train = y[train_mask]\n",
    "y_test = y[test_mask]"
   ]
  },
  {
   "cell_type": "code",
   "execution_count": 10,
   "id": "3f7cdd21",
   "metadata": {},
   "outputs": [
    {
     "name": "stdout",
     "output_type": "stream",
     "text": [
      "Training set: 93,044\n",
      "Test set: 106,956\n"
     ]
    }
   ],
   "source": [
    "print(f\"Training set: {len(X_train):,}\")\n",
    "print(f\"Test set: {len(X_test):,}\")"
   ]
  },
  {
   "cell_type": "code",
   "execution_count": 11,
   "id": "c72e691f",
   "metadata": {},
   "outputs": [
    {
     "name": "stdout",
     "output_type": "stream",
     "text": [
      "Scaling features\n",
      "Features scaled\n"
     ]
    }
   ],
   "source": [
    "\n",
    "print(\"Scaling features\")\n",
    "\n",
    "scaler = StandardScaler()\n",
    "X_train_scaled = scaler.fit_transform(X_train)\n",
    "X_test_scaled = scaler.transform(X_test)\n",
    "print(f\"Features scaled\")"
   ]
  },
  {
   "cell_type": "code",
   "execution_count": null,
   "id": "f6b19fbc",
   "metadata": {},
   "outputs": [
    {
     "name": "stdout",
     "output_type": "stream",
     "text": [
      "Logistic Regression\n",
      "Training complete\n"
     ]
    }
   ],
   "source": [
    "\n",
    "models = {}\n",
    "\n",
    "# Model 1: Logistic Regression (Baseline)\n",
    "print(\"Logistic Regression\")\n",
    "lr_model = LogisticRegression(\n",
    "    max_iter=1000,\n",
    "    random_state=10,\n",
    "    multi_class='multinomial',\n",
    "    class_weight='balanced' \n",
    ")\n",
    "lr_model.fit(X_train_scaled, y_train)\n",
    "models['Logistic Regression'] = (lr_model, X_train_scaled, X_test_scaled)\n",
    "print(\"Training complete\")"
   ]
  },
  {
   "cell_type": "code",
   "execution_count": 13,
   "id": "c1179f30",
   "metadata": {},
   "outputs": [
    {
     "name": "stdout",
     "output_type": "stream",
     "text": [
      "Training complete\n"
     ]
    }
   ],
   "source": [
    "# Model 2: Random Forest\n",
    "rf_model = RandomForestClassifier(\n",
    "    n_estimators=200,\n",
    "    max_depth=20,\n",
    "    min_samples_split=50,\n",
    "    min_samples_leaf=20,\n",
    ")\n",
    "rf_model.fit(X_train, y_train)\n",
    "models['Random Forest'] = (rf_model, X_train, X_test)\n",
    "print(\"Training complete\")\n",
    "\n"
   ]
  },
  {
   "cell_type": "code",
   "execution_count": 21,
   "id": "4a71d910",
   "metadata": {},
   "outputs": [
    {
     "name": "stdout",
     "output_type": "stream",
     "text": [
      "MODEL EVALUATION\n",
      "\n",
      "Logistic Regression\n",
      "==================================================\n",
      "Training -  Accuracy: 0.5761, F1: 0.6407\n",
      "Testing  -  Accuracy: 0.5262, F1: 0.6078\n",
      "\n",
      "Random Forest\n",
      "==================================================\n",
      "Training -  Accuracy: 0.7981, F1: 0.7637\n",
      "Testing  -  Accuracy: 0.7633, F1: 0.7234\n"
     ]
    }
   ],
   "source": [
    "print(\"MODEL EVALUATION\")\n",
    "\n",
    "results_summary = []\n",
    "\n",
    "for model_name, (model, X_train_data, X_test_data) in models.items():\n",
    "    print(f\"\\n{model_name}\")\n",
    "    print(\"=\"*50)\n",
    "    \n",
    "    # Predictions for both training and testing\n",
    "    y_pred_train = model.predict(X_train_data)\n",
    "    y_pred_test = model.predict(X_test_data)\n",
    "    \n",
    "    # Metrics for training set\n",
    "    accuracy_train = accuracy_score(y_train, y_pred_train)\n",
    "    f1_train = f1_score(y_train, y_pred_train, average='weighted')\n",
    "    \n",
    "    # Metrics for testing set\n",
    "    accuracy_test = accuracy_score(y_test, y_pred_test)\n",
    "    f1_test = f1_score(y_test, y_pred_test, average='weighted')\n",
    "    \n",
    "    print(f\"Training -  Accuracy: {accuracy_train:.4f}, F1: {f1_train:.4f}\")\n",
    "    print(f\"Testing  -  Accuracy: {accuracy_test:.4f}, F1: {f1_test:.4f}\")\n",
    "    \n",
    "    # Store results\n",
    "    results_summary.append({\n",
    "        'Model': model_name,\n",
    "        'Train_Accuracy': accuracy_train,\n",
    "        'Test_Accuracy': accuracy_test,\n",
    "        'Train_F1': f1_train,\n",
    "        'Test_F1': f1_test\n",
    "    })\n",
    "    \n"
   ]
  },
  {
   "cell_type": "code",
   "execution_count": null,
   "id": "7f852bcc",
   "metadata": {},
   "outputs": [],
   "source": []
  }
 ],
 "metadata": {
  "kernelspec": {
   "display_name": "Python (mlenv)",
   "language": "python",
   "name": "mlenv"
  },
  "language_info": {
   "codemirror_mode": {
    "name": "ipython",
    "version": 3
   },
   "file_extension": ".py",
   "mimetype": "text/x-python",
   "name": "python",
   "nbconvert_exporter": "python",
   "pygments_lexer": "ipython3",
   "version": "3.10.18"
  }
 },
 "nbformat": 4,
 "nbformat_minor": 5
}
